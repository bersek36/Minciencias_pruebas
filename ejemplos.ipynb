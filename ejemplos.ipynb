{
 "cells": [
  {
   "cell_type": "code",
   "execution_count": 1,
   "source": [
    "import os\r\n",
    "\r\n",
    "import numpy as np \r\n",
    "import nibabel as nib\r\n",
    "import tensorflow as tf\r\n",
    "\r\n",
    "from preprocess.get_subvolume import get_training_sub_volumes\r\n",
    "from unet3d import *\r\n",
    "\r\n",
    "np.set_printoptions(precision=2, suppress=True)"
   ],
   "outputs": [],
   "metadata": {}
  },
  {
   "cell_type": "code",
   "execution_count": 2,
   "source": [
    "PARENT_DIR = os.getcwd()\r\n",
    "img = os.path.join(PARENT_DIR, \"A00028185\\sub-A00028185_ses-NFB3_T1w.nii.gz\")\r\n",
    "img_mask = os.path.join(PARENT_DIR, \"A00028185\\sub-A00028185_ses-NFB3_T1w_brainmask.nii.gz\")\r\n",
    "img = nib.load(img)\r\n",
    "img_mask = nib.load(img_mask)\r\n",
    "img.affine"
   ],
   "outputs": [
    {
     "output_type": "execute_result",
     "data": {
      "text/plain": [
       "array([[ -0.  ,  -0.  ,   1.  , -98.2 ],\n",
       "       [ -1.  ,  -0.  ,  -0.  , 155.19],\n",
       "       [  0.  ,  -1.  ,   0.  ,  99.04],\n",
       "       [  0.  ,   0.  ,   0.  ,   1.  ]])"
      ]
     },
     "metadata": {},
     "execution_count": 2
    }
   ],
   "metadata": {}
  },
  {
   "cell_type": "code",
   "execution_count": 3,
   "source": [
    "image = img.get_fdata()\r\n",
    "image_mask = img_mask.get_fdata()\r\n",
    "image[:,:,:].shape"
   ],
   "outputs": [
    {
     "output_type": "execute_result",
     "data": {
      "text/plain": [
       "(256, 256, 192)"
      ]
     },
     "metadata": {},
     "execution_count": 3
    }
   ],
   "metadata": {}
  },
  {
   "cell_type": "code",
   "execution_count": 4,
   "source": [
    "SAVE_PATH = \"train_sub_volumes\"\r\n",
    "PATH_SUBVOLUME = \"images\"\r\n",
    "PATH_SUBMASK = \"masks\"\r\n",
    "SAVE_PATH_SUBVOLUME = os.path.join(PARENT_DIR, SAVE_PATH, PATH_SUBVOLUME, \"A00028185\")\r\n",
    "SAVE_PATH_SUBMASK = os.path.join(PARENT_DIR, SAVE_PATH, PATH_SUBMASK, \"A00028185\")"
   ],
   "outputs": [],
   "metadata": {}
  },
  {
   "cell_type": "code",
   "execution_count": 5,
   "source": [
    "# get_training_sub_volumes(image, img.affine, image_mask, img_mask.affine, \r\n",
    "#                                 SAVE_PATH_SUBVOLUME, SAVE_PATH_SUBMASK, \r\n",
    "#                                 classes=1, \r\n",
    "#                                 orig_x = 256, orig_y = 256, orig_z = 192, \r\n",
    "#                                 output_x = 128, output_y = 128, output_z = 16,\r\n",
    "#                                 stride_x = 40, stride_y = 40, stride_z = 8,\r\n",
    "#                                 background_threshold=0.0)"
   ],
   "outputs": [],
   "metadata": {}
  },
  {
   "cell_type": "code",
   "execution_count": 6,
   "source": [
    "feat_dir = 'train_sub_volumes'\r\n",
    "\r\n",
    "train_ids = next(os.walk(feat_dir))[1] # [2]: files; [1]: directories\r\n",
    "train_ids"
   ],
   "outputs": [
    {
     "output_type": "execute_result",
     "data": {
      "text/plain": [
       "['images', 'masks']"
      ]
     },
     "metadata": {},
     "execution_count": 6
    }
   ],
   "metadata": {}
  },
  {
   "cell_type": "code",
   "execution_count": 7,
   "source": [
    "images=[]\r\n",
    "images_mask=[]\r\n",
    "for subvol in sorted(os.listdir(os.path.join(feat_dir, train_ids[0]))):\r\n",
    "    for item in os.listdir(os.path.join(feat_dir, train_ids[0],subvol)):\r\n",
    "        images.append(os.path.join(feat_dir,train_ids[0],subvol,item))\r\n",
    "\r\n",
    "for subvol in sorted(os.listdir(os.path.join(feat_dir, train_ids[1]))):\r\n",
    "    for item in os.listdir(os.path.join(feat_dir, train_ids[1],subvol)):\r\n",
    "        images_mask.append(os.path.join(feat_dir,train_ids[1],subvol,item))\r\n"
   ],
   "outputs": [],
   "metadata": {}
  },
  {
   "cell_type": "code",
   "execution_count": 8,
   "source": [
    "len(images_mask)"
   ],
   "outputs": [
    {
     "output_type": "execute_result",
     "data": {
      "text/plain": [
       "143"
      ]
     },
     "metadata": {},
     "execution_count": 8
    }
   ],
   "metadata": {}
  },
  {
   "cell_type": "code",
   "execution_count": 9,
   "source": [
    "def load_image(file, label):\r\n",
    "    nifti = np.asarray(nib.load(file.numpy().decode('utf-8')).get_fdata()).astype(np.int16)\r\n",
    "    label = np.asarray(nib.load(label.numpy().decode('utf-8')).get_fdata()).astype(np.int16)\r\n",
    "    return nifti, label\r\n",
    "\r\n",
    "\r\n",
    "@tf.autograph.experimental.do_not_convert\r\n",
    "def load_image_wrapper(file, label):\r\n",
    "    image, label = tf.py_function(load_image, [file, label], [tf.int16, tf.int16])\r\n",
    "    image.set_shape(tf.TensorShape([128, 128, 16]))\r\n",
    "    label.set_shape(tf.TensorShape([128, 128, 16]))\r\n",
    "    return image, label\r\n",
    "\r\n",
    "dataset = tf.data.Dataset.from_tensor_slices((images, images_mask))\r\n",
    "dataset = dataset.map(load_image_wrapper, num_parallel_calls=32)\r\n",
    "dataset = dataset.batch(32, drop_remainder=True)"
   ],
   "outputs": [],
   "metadata": {}
  },
  {
   "cell_type": "code",
   "execution_count": 10,
   "source": [
    "model_unet=unet_3D(128, 128, 16)#(60,160,16)\r\n",
    "model_unet.compile(optimizer='adam', loss = 'binary_crossentropy', #\"categorical_crossentropy\", \r\n",
    "                    metrics = ['accuracy', dice_coeff]) "
   ],
   "outputs": [
    {
     "output_type": "stream",
     "name": "stdout",
     "text": [
      "(None, 128, 128, 16, 1) \n",
      "\n",
      "(None, 128, 128, 16, 16)\n",
      "(None, 128, 128, 16, 16)\n",
      "(None, 64, 64, 8, 16)\n",
      "(None, 64, 64, 8, 32)\n",
      "(None, 64, 64, 8, 32)\n",
      "(None, 32, 32, 4, 32)\n",
      "(None, 32, 32, 4, 64)\n",
      "(None, 32, 32, 4, 64)\n",
      "(None, 16, 16, 2, 64)\n",
      "(None, 16, 16, 2, 128)\n",
      "(None, 16, 16, 2, 128)\n",
      "(None, 8, 8, 1, 128) \n",
      "\n",
      "(None, 8, 8, 1, 256)\n",
      "(None, 8, 8, 1, 256) \n",
      "\n",
      "(None, 16, 16, 2, 128)\n",
      "(None, 16, 16, 2, 256)\n",
      "(None, 16, 16, 2, 128)\n",
      "(None, 16, 16, 2, 128)\n",
      "(None, 32, 32, 4, 64)\n",
      "(None, 32, 32, 4, 128)\n",
      "(None, 32, 32, 4, 64)\n",
      "(None, 32, 32, 4, 64)\n",
      "(None, 64, 64, 8, 32)\n",
      "(None, 64, 64, 8, 64)\n",
      "(None, 64, 64, 8, 32)\n",
      "(None, 64, 64, 8, 32)\n",
      "(None, 128, 128, 16, 16)\n",
      "(None, 128, 128, 16, 32)\n",
      "(None, 128, 128, 16, 16)\n",
      "(None, 128, 128, 16, 16) \n",
      "\n",
      "(None, 128, 128, 16, 1)\n"
     ]
    }
   ],
   "metadata": {}
  },
  {
   "cell_type": "code",
   "execution_count": 11,
   "source": [
    "callbacks = ModelCheckpoint(PARENT_DIR, \r\n",
    "                            monitor='val_dice_coeff', #accuracy', # val_acc\r\n",
    "                            verbose=1, \r\n",
    "                            mode='max',\r\n",
    "                            save_best_only=True)"
   ],
   "outputs": [],
   "metadata": {}
  },
  {
   "cell_type": "code",
   "execution_count": 12,
   "source": [
    "history = model_unet.fit(dataset,\r\n",
    "                         epochs=100,\r\n",
    "                         callbacks=[callbacks]) #Guardar la mejor epoca para validación"
   ],
   "outputs": [
    {
     "output_type": "stream",
     "name": "stdout",
     "text": [
      "Epoch 1/100\n",
      "4/4 [==============================] - 449s 110s/step - loss: 1.7813 - accuracy: 0.6824 - dice_coeff: 0.2994\n",
      "WARNING:tensorflow:Can save best model only with val_dice_coeff available, skipping.\n",
      "Epoch 2/100\n",
      "4/4 [==============================] - 435s 109s/step - loss: 0.7021 - accuracy: 0.7815 - dice_coeff: 0.4009\n",
      "WARNING:tensorflow:Can save best model only with val_dice_coeff available, skipping.\n",
      "Epoch 3/100\n",
      "4/4 [==============================] - 463s 116s/step - loss: 0.8100 - accuracy: 0.8215 - dice_coeff: 0.3700\n",
      "WARNING:tensorflow:Can save best model only with val_dice_coeff available, skipping.\n",
      "Epoch 4/100\n",
      "4/4 [==============================] - 453s 112s/step - loss: 0.5748 - accuracy: 0.7783 - dice_coeff: 0.4963\n",
      "WARNING:tensorflow:Can save best model only with val_dice_coeff available, skipping.\n",
      "Epoch 5/100\n",
      "4/4 [==============================] - 450s 111s/step - loss: 0.4929 - accuracy: 0.7917 - dice_coeff: 0.3135\n",
      "WARNING:tensorflow:Can save best model only with val_dice_coeff available, skipping.\n",
      "Epoch 6/100\n",
      "4/4 [==============================] - 442s 111s/step - loss: 0.4355 - accuracy: 0.7958 - dice_coeff: 0.2826\n",
      "WARNING:tensorflow:Can save best model only with val_dice_coeff available, skipping.\n",
      "Epoch 7/100\n",
      "4/4 [==============================] - 454s 114s/step - loss: 0.4718 - accuracy: 0.7654 - dice_coeff: 0.3480\n",
      "WARNING:tensorflow:Can save best model only with val_dice_coeff available, skipping.\n",
      "Epoch 8/100\n",
      "4/4 [==============================] - 463s 115s/step - loss: 0.4825 - accuracy: 0.7604 - dice_coeff: 0.3336\n",
      "WARNING:tensorflow:Can save best model only with val_dice_coeff available, skipping.\n",
      "Epoch 9/100\n",
      "4/4 [==============================] - 433s 108s/step - loss: 0.4536 - accuracy: 0.7728 - dice_coeff: 0.3513\n",
      "WARNING:tensorflow:Can save best model only with val_dice_coeff available, skipping.\n",
      "Epoch 10/100\n",
      "4/4 [==============================] - 431s 108s/step - loss: 0.4085 - accuracy: 0.7942 - dice_coeff: 0.4097\n",
      "WARNING:tensorflow:Can save best model only with val_dice_coeff available, skipping.\n",
      "Epoch 11/100\n",
      "4/4 [==============================] - 424s 106s/step - loss: 0.3399 - accuracy: 0.8262 - dice_coeff: 0.4915\n",
      "WARNING:tensorflow:Can save best model only with val_dice_coeff available, skipping.\n",
      "Epoch 12/100\n",
      "4/4 [==============================] - 429s 107s/step - loss: 0.3177 - accuracy: 0.8226 - dice_coeff: 0.5393\n",
      "WARNING:tensorflow:Can save best model only with val_dice_coeff available, skipping.\n",
      "Epoch 13/100\n",
      "4/4 [==============================] - 437s 109s/step - loss: 0.2848 - accuracy: 0.8437 - dice_coeff: 0.5543\n",
      "WARNING:tensorflow:Can save best model only with val_dice_coeff available, skipping.\n",
      "Epoch 14/100\n",
      "2/4 [==============>...............] - ETA: 3:40 - loss: 0.3002 - accuracy: 0.8461 - dice_coeff: 0.5240"
     ]
    }
   ],
   "metadata": {}
  },
  {
   "cell_type": "code",
   "execution_count": 153,
   "source": [
    "import matplotlib.pyplot as plt\r\n",
    "plt.imshow(images_mask[1][:,:,15], cmap=\"gray\")"
   ],
   "outputs": [
    {
     "output_type": "execute_result",
     "data": {
      "text/plain": [
       "<matplotlib.image.AxesImage at 0x19257ea7280>"
      ]
     },
     "metadata": {},
     "execution_count": 153
    },
    {
     "output_type": "display_data",
     "data": {
      "text/plain": [
       "<Figure size 432x288 with 1 Axes>"
      ],
      "image/png": "[encoded data removed]"
     },
     "metadata": {
      "needs_background": "light"
     }
    }
   ],
   "metadata": {}
  },
  {
   "cell_type": "code",
   "execution_count": null,
   "source": [
    "plot_slice(prueba_img, test_mask_img, predictions_img)"
   ],
   "outputs": [],
   "metadata": {}
  }
 ],
 "metadata": {
  "orig_nbformat": 4,
  "language_info": {
   "name": "python"
  }
 },
 "nbformat": 4,
 "nbformat_minor": 2
}