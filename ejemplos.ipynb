{
 "cells": [
  {
   "cell_type": "code",
   "execution_count": 1,
   "source": [
    "import os\r\n",
    "import random\r\n",
    "\r\n",
    "import numpy as np \r\n",
    "import nibabel as nib\r\n",
    "import tensorflow as tf\r\n",
    "from sklearn.model_selection import train_test_split\r\n",
    "\r\n",
    "from preprocess.get_subvolume import get_training_sub_volumes\r\n",
    "from unet3d import *\r\n",
    "from utils import makedirs()\r\n",
    "\r\n",
    "np.set_printoptions(precision=2, suppress=True)"
   ],
   "outputs": [],
   "metadata": {}
  },
  {
   "cell_type": "code",
   "execution_count": 2,
   "source": [
    "print(tf.__version__)\r\n",
    "tf.config.list_physical_devices(\"GPU\") "
   ],
   "outputs": [
    {
     "output_type": "stream",
     "name": "stdout",
     "text": [
      "2.5.0\n"
     ]
    },
    {
     "output_type": "execute_result",
     "data": {
      "text/plain": [
       "[PhysicalDevice(name='/physical_device:GPU:0', device_type='GPU')]"
      ]
     },
     "metadata": {},
     "execution_count": 2
    }
   ],
   "metadata": {}
  },
  {
   "cell_type": "code",
   "execution_count": 3,
   "source": [
    "# Crea los directorios si no existen, el unico requisito es que se tenga la DB en una carpeta llamada NFBS_Dataset \r\n",
    "# Dentro del mismo directorio que este codigo\r\n",
    "paths = make_dirs()\r\n",
    "paths.keys()\r\n"
   ],
   "outputs": [
    {
     "output_type": "execute_result",
     "data": {
      "text/plain": [
       "dict_keys(['SUBVOLUME_FOLDER', 'SUBVOLUME_MASK_FOLDER', 'DATABASE_DIR', 'SAMPLES'])"
      ]
     },
     "metadata": {},
     "execution_count": 3
    }
   ],
   "metadata": {}
  },
  {
   "cell_type": "code",
   "execution_count": 4,
   "source": [
    "train_files, val_files = train_test_split(paths[\"SAMPLES\"], test_size=0.2, random_state=42)\r\n",
    "train_images=[]\r\n",
    "train_images_mask=[]\r\n",
    "''' train_files=train_files[0:2]\r\n",
    "val_files=val_files[0:2] '''\r\n",
    "for sample in train_files:\r\n",
    "    for subvol in sorted(os.listdir(os.path.join(paths[\"SUBVOLUME_FOLDER\"],sample))):\r\n",
    "        train_images.append(os.path.join(paths[\"SUBVOLUME_FOLDER\"],sample,subvol))\r\n",
    "        \r\n",
    "\r\n",
    "    for subvol in sorted(os.listdir(os.path.join(paths[\"SUBVOLUME_MASK_FOLDER\"],sample))):\r\n",
    "        train_images_mask.append(os.path.join(paths[\"SUBVOLUME_MASK_FOLDER\"],sample,subvol))\r\n",
    "\r\n",
    "val_images=[]\r\n",
    "val_images_mask=[]\r\n",
    "for sample in val_files:\r\n",
    "    for subvol in sorted(os.listdir(os.path.join(paths[\"SUBVOLUME_FOLDER\"],sample))):\r\n",
    "        val_images.append(os.path.join(paths[\"SUBVOLUME_FOLDER\"],sample,subvol))\r\n",
    "        \r\n",
    "\r\n",
    "    for subvol in sorted(os.listdir(os.path.join(paths[\"SUBVOLUME_MASK_FOLDER\"],sample))):\r\n",
    "        val_images_mask.append(os.path.join(paths[\"SUBVOLUME_MASK_FOLDER\"],sample,subvol))\r\n"
   ],
   "outputs": [],
   "metadata": {}
  },
  {
   "cell_type": "code",
   "execution_count": 5,
   "source": [
    "len(val_images)"
   ],
   "outputs": [
    {
     "output_type": "execute_result",
     "data": {
      "text/plain": [
       "7416"
      ]
     },
     "metadata": {},
     "execution_count": 5
    }
   ],
   "metadata": {}
  },
  {
   "cell_type": "code",
   "execution_count": 6,
   "source": [
    "def load_image(file, label):\r\n",
    "    nifti = np.asarray(nib.load(file.numpy().decode('utf-8')).get_fdata()).astype(np.int16)\r\n",
    "    label = np.asarray(nib.load(label.numpy().decode('utf-8')).get_fdata()).astype(np.int16)\r\n",
    "    return nifti, label\r\n",
    "\r\n",
    "\r\n",
    "@tf.autograph.experimental.do_not_convert\r\n",
    "def load_image_wrapper(file, label):\r\n",
    "    image, label = tf.py_function(load_image, [file, label], [tf.int16, tf.int16])\r\n",
    "    image.set_shape(tf.TensorShape([128, 128, 16]))\r\n",
    "    label.set_shape(tf.TensorShape([128, 128, 16]))\r\n",
    "    return image, label\r\n",
    "\r\n",
    "train_dataset = tf.data.Dataset.from_tensor_slices((train_images, train_images_mask))\r\n",
    "train_dataset = train_dataset.map(load_image_wrapper, num_parallel_calls=32)\r\n",
    "train_dataset = train_dataset.batch(10, drop_remainder=True)\r\n",
    "\r\n",
    "val_dataset = tf.data.Dataset.from_tensor_slices((val_images, val_images_mask))\r\n",
    "val_dataset = val_dataset.map(load_image_wrapper, num_parallel_calls=32)\r\n",
    "val_dataset = val_dataset.batch(10, drop_remainder=True)"
   ],
   "outputs": [],
   "metadata": {}
  },
  {
   "cell_type": "code",
   "execution_count": 7,
   "source": [
    "model_unet=unet_3D(128, 128, 16)#(60,160,16)\r\n",
    "model_unet.compile(optimizer='adam', loss = 'binary_crossentropy', #\"categorical_crossentropy\", \r\n",
    "                    metrics = ['accuracy', dice_coeff]) "
   ],
   "outputs": [
    {
     "output_type": "stream",
     "name": "stdout",
     "text": [
      "(None, 128, 128, 16, 1) \n",
      "\n",
      "(None, 128, 128, 16, 16)\n",
      "(None, 128, 128, 16, 16)\n",
      "(None, 64, 64, 8, 16)\n",
      "(None, 64, 64, 8, 32)\n",
      "(None, 64, 64, 8, 32)\n",
      "(None, 32, 32, 4, 32)\n",
      "(None, 32, 32, 4, 64)\n",
      "(None, 32, 32, 4, 64)\n",
      "(None, 16, 16, 2, 64)\n",
      "(None, 16, 16, 2, 128)\n",
      "(None, 16, 16, 2, 128)\n",
      "(None, 8, 8, 1, 128) \n",
      "\n",
      "(None, 8, 8, 1, 256)\n",
      "(None, 8, 8, 1, 256) \n",
      "\n",
      "(None, 16, 16, 2, 128)\n",
      "(None, 16, 16, 2, 256)\n",
      "(None, 16, 16, 2, 128)\n",
      "(None, 16, 16, 2, 128)\n",
      "(None, 32, 32, 4, 64)\n",
      "(None, 32, 32, 4, 128)\n",
      "(None, 32, 32, 4, 64)\n",
      "(None, 32, 32, 4, 64)\n",
      "(None, 64, 64, 8, 32)\n",
      "(None, 64, 64, 8, 64)\n",
      "(None, 64, 64, 8, 32)\n",
      "(None, 64, 64, 8, 32)\n",
      "(None, 128, 128, 16, 16)\n",
      "(None, 128, 128, 16, 32)\n",
      "(None, 128, 128, 16, 16)\n",
      "(None, 128, 128, 16, 16) \n",
      "\n",
      "(None, 128, 128, 16, 1)\n"
     ]
    }
   ],
   "metadata": {}
  },
  {
   "cell_type": "code",
   "execution_count": 8,
   "source": [
    "PARENT_DIR = os.getcwd()\r\n",
    "callbacks = ModelCheckpoint(PARENT_DIR, \r\n",
    "                            monitor='val_dice_coeff', #accuracy', # val_acc\r\n",
    "                            verbose=1, \r\n",
    "                            mode='max',\r\n",
    "                            save_best_only=True)"
   ],
   "outputs": [],
   "metadata": {}
  },
  {
   "cell_type": "code",
   "execution_count": 9,
   "source": [
    "history = model_unet.fit(train_dataset,\r\n",
    "                         validation_data=val_dataset,\r\n",
    "                         epochs=100,\r\n",
    "                         callbacks=[callbacks, tf.keras.callbacks.EarlyStopping(verbose=1, patience=10,min_delta=0.0005, monitor='val_dice_coeff')]) #Guardar la mejor epoca para validación"
   ],
   "outputs": [
    {
     "output_type": "stream",
     "name": "stdout",
     "text": [
      "Epoch 1/100\n",
      "1251/2895 [===========>..................] - ETA: 12:53 - loss: 0.2599 - accuracy: 0.8869 - dice_coeff: 0.8306"
     ]
    }
   ],
   "metadata": {}
  }
 ],
 "metadata": {
  "orig_nbformat": 4,
  "language_info": {
   "name": "python",
   "version": "3.7.6",
   "mimetype": "text/x-python",
   "codemirror_mode": {
    "name": "ipython",
    "version": 3
   },
   "pygments_lexer": "ipython3",
   "nbconvert_exporter": "python",
   "file_extension": ".py"
  },
  "kernelspec": {
   "name": "python3",
   "display_name": "Python 3.7.6 64-bit ('minciencias_env': venv)"
  },
  "interpreter": {
   "hash": "a6644f45bd4b335e977f6ae4a058120b891155112d524c5a632d01556761d8f0"
  }
 },
 "nbformat": 4,
 "nbformat_minor": 2
}